{
 "cells": [
  {
   "cell_type": "markdown",
   "metadata": {},
   "source": [
    "# TMS-OS (Tiered Multi-Sensor: Optical & SAR)"
   ]
  },
  {
   "cell_type": "code",
   "execution_count": null,
   "metadata": {},
   "outputs": [],
   "source": [
    "import pandas as pd\n",
    "import geopandas as gpd\n",
    "import numpy as np\n",
    "import plotly.graph_objects as go\n",
    "from plotly.subplots import make_subplots"
   ]
  },
  {
   "cell_type": "markdown",
   "metadata": {},
   "source": [
    "_section for landsat-8 data reading and visualization_"
   ]
  },
  {
   "cell_type": "markdown",
   "metadata": {},
   "source": [
    "# 1. Exploring Sentinel-2 time-series"
   ]
  },
  {
   "cell_type": "code",
   "execution_count": null,
   "metadata": {},
   "outputs": [],
   "source": [
    "# read in sentinel-2 data\n",
    "s2 = pd.read_csv(\"../data/s2-sirindhorn.csv\", parse_dates=['date']).set_index('date')\n",
    "s2.head()"
   ]
  },
  {
   "cell_type": "code",
   "execution_count": null,
   "metadata": {},
   "outputs": [],
   "source": [
    "# calculate cloud cover in % over the ROI\n",
    "s2['cloud_percentage'] = (s2['cloud_area_raw (km2)']*100)/(s2['water_area_raw (km2)']+s2['non_water_area_raw (km2)']+s2['cloud_area_raw (km2)'])\n",
    "s2.head()"
   ]
  },
  {
   "cell_type": "markdown",
   "metadata": {},
   "source": [
    "Plot the data"
   ]
  },
  {
   "cell_type": "code",
   "execution_count": null,
   "metadata": {},
   "outputs": [],
   "source": [
    "fig = make_subplots(\n",
    "    rows=2,\n",
    "    row_heights=[0.8, 0.2],\n",
    "    shared_xaxes=True,\n",
    "    vertical_spacing = 0.05\n",
    ")\n",
    "\n",
    "# Raw Surface Area\n",
    "fig.add_trace(go.Scatter(\n",
    "    x = s2.index,\n",
    "    y = s2['water_area_raw (km2)'],\n",
    "    name = 'Raw Reservoir Surface Area',\n",
    "    mode = 'lines+markers'\n",
    "), row=1, col=1)\n",
    "\n",
    "# Cloud Corrected Surface Area\n",
    "fig.add_trace(go.Scatter(\n",
    "    x = s2.index,\n",
    "    y = s2['water_area_cloud_corrected (km2)'],\n",
    "    name = 'Cloud-Corrected Reservoir Surface Area',\n",
    "    mode = 'lines+markers'\n",
    "), row=1, col=1)\n",
    "\n",
    "# Cloud\n",
    "fig.add_trace(go.Bar(\n",
    "    x = s2.index,\n",
    "    y = s2['cloud_percentage'],\n",
    "    name = 'Cloud Cover (%)',\n",
    "    marker = dict(\n",
    "        color = 'red',\n",
    "    )\n",
    "), row=2, col=1)\n",
    "\n",
    "fig.update_layout(\n",
    "    title=dict(                                         # title\n",
    "        text='Reservoir Surface Areas - Sentinel-2',\n",
    "        xanchor='center',\n",
    "        x=0.5\n",
    "    ),\n",
    "    legend=dict(                                        # legend\n",
    "        orientation = 'h',\n",
    "        yanchor='top',\n",
    "        y=-0.08,\n",
    "        xanchor='right',\n",
    "        x=1.0,\n",
    "        bordercolor=\"grey\",\n",
    "        borderwidth=1\n",
    "    ),\n",
    "    margin=dict(l=20, r=20, t=60, b=20)                 # margins\n",
    ")\n",
    "\n",
    "fig"
   ]
  },
  {
   "cell_type": "markdown",
   "metadata": {},
   "source": [
    "_There are a lot of `-1` values, what are those??_\n",
    "- When the cloud cover is >90% the script returns `-1` as a fill value. Essentially, we don't have a data point there.\n",
    "\n",
    "Let's remove these values"
   ]
  },
  {
   "cell_type": "code",
   "execution_count": null,
   "metadata": {},
   "outputs": [],
   "source": [
    "# set all the -1 values as np.nan (Not-A-Number)\n",
    "s2.loc[s2['cloud_percentage']>90, ['water_area_raw (km2)', 'non_water_area_raw (km2)', 'cloud_area_raw (km2)', 'water_area_cloud_corrected (km2)']] = np.nan\n",
    "\n",
    "# drop all the np.nan values\n",
    "s2.dropna(inplace=True)\n",
    "\n",
    "s2.head()"
   ]
  },
  {
   "cell_type": "markdown",
   "metadata": {},
   "source": [
    "Plot the data again"
   ]
  },
  {
   "cell_type": "code",
   "execution_count": null,
   "metadata": {},
   "outputs": [],
   "source": [
    "fig = make_subplots(\n",
    "    rows=2,\n",
    "    row_heights=[0.8, 0.2],\n",
    "    shared_xaxes=True,\n",
    "    vertical_spacing = 0.05\n",
    ")\n",
    "\n",
    "# Raw Surface Area\n",
    "fig.add_trace(go.Scatter(\n",
    "    x = s2.index,\n",
    "    y = s2['water_area_raw (km2)'],\n",
    "    name = 'Raw Reservoir Surface Area',\n",
    "    mode = 'lines+markers'\n",
    "), row=1, col=1)\n",
    "\n",
    "# Cloud Corrected Surface Area\n",
    "fig.add_trace(go.Scatter(\n",
    "    x = s2.index,\n",
    "    y = s2['water_area_cloud_corrected (km2)'],\n",
    "    name = 'Cloud-Corrected Reservoir Surface Area',\n",
    "    mode = 'lines+markers'\n",
    "), row=1, col=1)\n",
    "\n",
    "# Cloud\n",
    "fig.add_trace(go.Bar(\n",
    "    x = s2.index,\n",
    "    y = s2['cloud_percentage'],\n",
    "    name = 'Cloud Cover (%)',\n",
    "    marker = dict(\n",
    "        color = 'red',\n",
    "    )\n",
    "), row=2, col=1)\n",
    "\n",
    "fig.update_layout(\n",
    "    title=dict(                                         # title\n",
    "        text='Reservoir Surface Areas - Sentinel-2',\n",
    "        xanchor='center',\n",
    "        x=0.5\n",
    "    ),\n",
    "    legend=dict(                                        # legend\n",
    "        orientation = 'h',\n",
    "        yanchor='top',\n",
    "        y=-0.08,\n",
    "        xanchor='right',\n",
    "        x=1.0,\n",
    "        bordercolor=\"grey\",\n",
    "        borderwidth=1\n",
    "    ),\n",
    "    margin=dict(l=20, r=20, t=60, b=20)                 # margins\n",
    ")\n",
    "\n",
    "fig"
   ]
  },
  {
   "cell_type": "markdown",
   "metadata": {},
   "source": [
    "Notice the sudden drops in surface areas, which usually occur during high cloud cover conditions, but may also happen during cloud-free days. These sudden drops (> 100 sq. km.) followed by sudden rise of similar magnitude in a span of 5-10 days aren't representative of the true behavior of the reservoirs - these are not actual signals. \n",
    "\n",
    "These artifacts can occur due to the automatic nature of the clustering algorithm ([Cascade simple K-Means clustering](https://developers.google.com/earth-engine/apidocs/ee-clusterer-wekacascadekmeans)). In the K-Means clustering algorithm, you'd have to specify the number of clusters ($K$) to form, before performing the clustering. Specifying a hard-coded value for $K$ can (1) be difficult, and (2) create additional issues, especially when several reservoirs are to be mapped at once (such as RAT-Mekong). Moreover, in case of a highly dynamic reservoir, where the area may change drastically during dry and wet seasons, the number of distinct features that can appear as a \"cluster\" may vary as well. Due to such reasons, it is recommended to use an automatic scheme of choosing the value of $K$, which, in this case, is done using [the Calinski-Harabasz criterion](https://www.tandfonline.com/doi/abs/10.1080/03610927408827101).\n",
    "\n",
    "The limitation with this method, however, is that the Calinski-Harabasz crierion can sometimes choose a value of $K$ where the cluster representing water pixels gets divided into multiple clusters, during challenging scenarios. Such challenging scenarios can occur due to unmasked cloud cover, sediment-laden the water, intermittent vegetation, and other artifacts of processing done by the Satellite data provider.\n",
    "\n",
    "**These erroneous values get corrected in the subsequent steps of TMS-OS**"
   ]
  }
 ],
 "metadata": {
  "interpreter": {
   "hash": "c300dfce7f130addde34bb35dc5597fc44914ad651cf339f2e6729ce57523eb4"
  },
  "kernelspec": {
   "display_name": "Python 3.10.5 ('rat-training-22')",
   "language": "python",
   "name": "python3"
  },
  "language_info": {
   "codemirror_mode": {
    "name": "ipython",
    "version": 3
   },
   "file_extension": ".py",
   "mimetype": "text/x-python",
   "name": "python",
   "nbconvert_exporter": "python",
   "pygments_lexer": "ipython3",
   "version": "3.10.5"
  },
  "orig_nbformat": 4
 },
 "nbformat": 4,
 "nbformat_minor": 2
}
