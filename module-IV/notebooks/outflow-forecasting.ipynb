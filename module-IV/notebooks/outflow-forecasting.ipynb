{
 "cells": [
  {
   "cell_type": "markdown",
   "id": "ded6ad33-85a6-4008-ba09-629907b206ce",
   "metadata": {},
   "source": [
    "# Forecasting Outflow \n",
    "\n",
    "## (1) Using forecasted inflow and satellite observed rule curve (∆S/∆Smax)"
   ]
  },
  {
   "cell_type": "code",
   "execution_count": 9,
   "id": "4f0b4fbf-7c8c-4235-bee1-e1cde399ae61",
   "metadata": {
    "jupyter": {
     "source_hidden": true
    },
    "tags": []
   },
   "outputs": [],
   "source": [
    "import pandas as pd\n",
    "import numpy as np\n",
    "import matplotlib.pyplot as plt\n",
    "import matplotlib.dates as mdates\n",
    "from ipywidgets import interact, interactive, fixed, interact_manual, Layout\n",
    "import ipywidgets as widgets\n",
    "from collections import OrderedDict\n",
    "from scipy.interpolate import interp1d\n",
    "\n",
    "pd.set_option(\"max_colwidth\", 50)\n",
    "\n",
    "# Clip time-series\n",
    "def clip_ts(*tss):\n",
    "    mint = max([min(ts.index) for ts in tss])\n",
    "    maxt = min([max(ts.index) for ts in tss])\n",
    "\n",
    "    # clipped_tss = [ts[mint:maxt] for ts in tss]\n",
    "    clipped_tss = [ts.loc[(ts.index>=mint)&(ts.index<=maxt)] for ts in tss]\n",
    "\n",
    "    return clipped_tss\n",
    "\n",
    "# From GRanD\n",
    "Smaxes = {\n",
    "    'Sirindhorn': 2000 * 1e6, # m3\n",
    "    'Lam_Pao': 1980 * 1e6,\n",
    "    'Ubol_Ratana': 2300 * 1e6\n",
    "}\n",
    "\n",
    "def get_rc(r):\n",
    "    rc_fn = f\"../data/rc/{r}.txt\"\n",
    "    rc = pd.read_csv(rc_fn)\n",
    "    \n",
    "    return rc\n",
    "\n",
    "def get_inflow(r):\n",
    "    inflow_fn = f\"../data/forecasted_inflow/{r}.day\"\n",
    "    \n",
    "    inflow = pd.read_csv(\n",
    "        inflow_fn, \n",
    "        sep=r\"\\s+\", \n",
    "        names=['year', 'month', 'day', 'streamflow'],\n",
    "        parse_dates=[['year', 'month', 'day']]\n",
    "    ).rename({\"year_month_day\": \"date\", 'streamflow': 'inflow [ft3/s]'}, axis=1).set_index('date')\n",
    "\n",
    "    inflow['inflow [m3/s]'] = inflow['inflow [ft3/s]'] * 0.028316847\n",
    "    inflow['I [m3]'] = inflow['inflow [m3/s]'] * 24*60*60\n",
    "    \n",
    "    return inflow\n",
    "\n",
    "def get_aec(r):\n",
    "    aec = pd.read_csv(f\"../data/aec/{r}.csv\")\n",
    "    \n",
    "    return aec\n",
    "\n",
    "def get_sarea(r):\n",
    "    sarea_path = f\"../data/sarea/{r}.csv\"\n",
    "    sarea = pd.read_csv(sarea_path, parse_dates=['date']).set_index('date')[['area']].rename({'area': 'sarea'}, axis=1).dropna()\n",
    "    \n",
    "    return sarea\n",
    "\n",
    "def get_dels(r):\n",
    "    aec = get_aec(r)\n",
    "    sarea = get_sarea(r)\n",
    "    \n",
    "    balance = sarea[['sarea']].rename({'sarea': 'sarea [km2]'}, axis=1)\n",
    "    balance['sarea [m2]'] = balance['sarea [km2]'] * 1e6\n",
    "    balance['h [m]'] = np.interp(balance['sarea [km2]'], aec['CumArea'], aec['Elevation'])\n",
    "    balance['dels [m3]'] = (balance['h [m]']-balance['h [m]'].shift(1))*(balance['sarea [m2]'] + balance['sarea [m2]'].shift(1))/2\n",
    "\n",
    "    return balance[['dels [m3]']]\n",
    "\n",
    "def adder(dates, dataset):\n",
    "    minmaxdates = dates.index[0], dates.index[-1]\n",
    "\n",
    "    return dataset[minmaxdates[0]:minmaxdates[1]].sum()\n",
    "\n",
    "\n",
    "def get_balance_nowcast(r):\n",
    "    inflow = get_inflow(r)\n",
    "    sarea = get_sarea(r)\n",
    "    aec = get_aec(r)\n",
    "    \n",
    "    inflow_nowcast, sarea_nowcast = clip_ts(inflow, sarea)\n",
    "    \n",
    "    balance = sarea[['sarea']].rename({'sarea': 'sarea [km2]'}, axis=1)\n",
    "    balance['sarea [m2]'] = balance['sarea [km2]'] * 1e6\n",
    "    balance['h [m]'] = np.interp(balance['sarea [km2]'], aec['CumArea'], aec['Elevation'])\n",
    "    balance['dels [m3]'] = (balance['h [m]']-balance['h [m]'].shift(1))*(balance['sarea [m2]'] + balance['sarea [m2]'].shift(1))/2\n",
    "    \n",
    "    balance['I [m3]'] = balance['sarea [km2]'].rolling(2).apply(lambda x: adder(x, inflow['I [m3]']))\n",
    "    balance['O [m3]'] = balance['I [m3]'] - balance['dels [m3]']\n",
    "    balance.loc[balance['O [m3]']<0, 'O [m3]'] = 0\n",
    "\n",
    "    return balance\n",
    "    \n",
    "def get_dels_forecast(r, start_date, lead_time=15, freq=5):\n",
    "    dates = pd.date_range(start_date, freq=f\"{freq}d\", periods=lead_time/freq + 1)\n",
    "    Smax= Smaxes[r]\n",
    "\n",
    "    rc = get_rc(r)\n",
    "\n",
    "    years = list(OrderedDict.fromkeys([d.year for d in dates]))\n",
    "    \n",
    "    # pad the years list with two adjacent years for the edge cases of first and last 15 days of the year\n",
    "    # Computationally cheap to just do the calculations for extra two years\n",
    "    years.insert(0, years[0]-1)\n",
    "    years.append(years[-1]+1)\n",
    "    \n",
    "    rcs_stretched = []\n",
    "    \n",
    "    for year in years:\n",
    "        rc_stretched = rc.copy()\n",
    "        rc_stretched['date_synthetic'] = [pd.to_datetime(f\"{year}-{d:02}-15\") for d in rc_stretched['Month']]\n",
    "        rc_stretched.set_index('date_synthetic', inplace=True)\n",
    "        rcs_stretched.append(rc_stretched)\n",
    "\n",
    "    rcs_stretched = pd.concat(rcs_stretched)\n",
    "    # rcs_stretched['S/Smax'].plot(marker='.')\n",
    "\n",
    "    f = interp1d([d.to_pydatetime().timestamp() for d in rcs_stretched.index], rcs_stretched['S/Smax'])\n",
    "\n",
    "    forecast_balance = pd.DataFrame({\"date\": dates})\n",
    "    s_smaxes = []\n",
    "    for d in dates:\n",
    "        s_smaxes.append(f(d.to_pydatetime().timestamp()))\n",
    "    forecast_balance['S/Smax'] = s_smaxes\n",
    "    forecast_balance['S'] = forecast_balance['S/Smax']*Smax\n",
    "    \n",
    "    forecast_balance['dels [m3]'] = forecast_balance['S'].diff()\n",
    "\n",
    "    return forecast_balance.set_index('date')[['dels [m3]']]\n",
    "\n",
    "def get_forecast_balance(r, lead_time=15):\n",
    "    inflow = get_inflow(r)\n",
    "    dels_nowcast = get_dels(r)\n",
    "\n",
    "    dels_nowcast['nowcast/forecast'] = 'nowcast'\n",
    "\n",
    "    dels_forecast = get_dels_forecast(r, dels_nowcast.index.values[-1], lead_time=lead_time).dropna()\n",
    "    dels_forecast['nowcast/forecast'] = 'forecast'\n",
    "\n",
    "    dels = pd.concat([dels_nowcast, dels_forecast])\n",
    "\n",
    "    balance = dels.copy()\n",
    "\n",
    "    balance['I [m3]'] = balance['dels [m3]'].rolling(2).apply(lambda x: adder(x, inflow['I [m3]']))\n",
    "    balance['O [m3]'] = balance['I [m3]'] - balance['dels [m3]']\n",
    "    balance.loc[balance['O [m3]']<0, 'O [m3]'] = 0\n",
    "    balance['O [m3/day]'] = balance['O [m3]']/balance.index.to_series().diff().dt.days\n",
    "    balance['dels [m3/day]'] = balance['dels [m3]']/balance.index.to_series().diff().dt.days\n",
    "\n",
    "    return balance\n",
    "\n",
    "pretty_names = {\n",
    "    'Lam_Pao': 'Lam Pao',\n",
    "    'Sirindhorn': 'Sirindhorn',\n",
    "    'Ubol_Ratana': 'Ubol Ratana'\n",
    "}\n",
    "\n",
    "def plot_forecast(balance, r, plot_history=30*6):\n",
    "    latest_nowcast = balance.loc[balance['nowcast/forecast']=='nowcast'].index[-1]\n",
    "    plot_history_from = latest_nowcast - pd.DateOffset(plot_history)\n",
    "    forecast_date = balance.index[-1]\n",
    "    \n",
    "    f, (ax1, ax2) = plt.subplots(figsize=(10, 7), nrows=2, sharex=True);\n",
    "    \n",
    "    ax1.set_title(f\"Forecasted ∆S using Sat. derived Rule Curve - {pretty_names[r]}\")\n",
    "    ax1.axvline(latest_nowcast, color='blue', alpha=0.8, linestyle='--', label='Latest Observation')\n",
    "    (balance.loc[:, 'dels [m3]'] * 1e-6).plot(ax=ax1, color='k', label='∆S [Mil. m3]');\n",
    "    (balance.loc[:latest_nowcast+pd.DateOffset(1), 'dels [m3]'] * 1e-6).plot(ax=ax1, linewidth=0, label='Nowcast', marker='o', markeredgecolor='blue', markerfacecolor='white', markeredgewidth=2);\n",
    "    (balance.loc[latest_nowcast+pd.DateOffset(1):, 'dels [m3]'] * 1e-6).plot(ax=ax1, linewidth=0, label='Forecast', marker='o', markeredgecolor='orange', markerfacecolor='white', markeredgewidth=2);\n",
    "    ax1.set_ylabel('∆S [Mil. m$^3$]')\n",
    "    ax1.legend(loc='upper left')\n",
    "    ax1.grid(alpha=0.3)\n",
    "    ax1.set_xlim(plot_history_from, forecast_date+pd.DateOffset(10))\n",
    "    ax1.axhline(0, color='k', alpha=0.3, linestyle='--')\n",
    "    \n",
    "    \n",
    "    ax2.set_title(f\"Forecasted Outflow - {pretty_names[r]}\")\n",
    "    ax2.axvline(latest_nowcast, color='blue', alpha=0.8, linestyle='--', label='Latest Observation')\n",
    "    (balance.loc[:, 'O [m3/day]'] * 1e-6).plot(ax=ax2, color='k', label='Outflow [Mil. m3/day]');\n",
    "    (balance.loc[:latest_nowcast+pd.DateOffset(1), 'O [m3/day]'] * 1e-6).plot(ax=ax2, linewidth=0, label='Nowcast', marker='o', markeredgecolor='blue', markerfacecolor='white', markeredgewidth=2);\n",
    "    (balance.loc[latest_nowcast+pd.DateOffset(1):, 'O [m3/day]'] * 1e-6).plot(ax=ax2, linewidth=0, label='Forecast', marker='o', markeredgecolor='orange', markerfacecolor='white', markeredgewidth=2);\n",
    "    ax2.set_ylabel('Outflow [Mil. m$^3$/day]')\n",
    "    ax2.legend(loc='upper left')\n",
    "    ax2.grid(alpha=0.3)\n",
    "    ax2.set_xlim(plot_history_from, forecast_date+pd.DateOffset(10))\n",
    "    ax2.set_ylim(0, None)\n",
    "    \n",
    "    ax2.xaxis.set_major_locator(mdates.MonthLocator(interval=1))\n",
    "    ax2.xaxis.set_minor_locator(mdates.MonthLocator(interval=1))\n",
    "    ax2.xaxis.set_major_formatter(mdates.DateFormatter('%b-%Y'))\n",
    "    for label in ax2.get_xticklabels(which='major'):\n",
    "        label.set(rotation=0, horizontalalignment='center')\n",
    "    ax2.set_xlabel('')\n",
    "    \n",
    "    f.tight_layout()\n",
    "    \n",
    "    return f"
   ]
  },
  {
   "cell_type": "code",
   "execution_count": 10,
   "id": "31a196e9-6e61-4032-8927-aab743c99b5f",
   "metadata": {
    "jupyter": {
     "source_hidden": true
    },
    "tags": []
   },
   "outputs": [
    {
     "data": {
      "application/vnd.jupyter.widget-view+json": {
       "model_id": "01c754959c9045dd944e86ff3515a8d4",
       "version_major": 2,
       "version_minor": 0
      },
      "text/plain": [
       "interactive(children=(Dropdown(description='res', options=(('Lam Pao', 'Lam_Pao'), ('Sirindhorn', 'Sirindhorn'…"
      ]
     },
     "metadata": {},
     "output_type": "display_data"
    }
   ],
   "source": [
    "@interact(res=[('Lam Pao', 'Lam_Pao'), ('Sirindhorn', 'Sirindhorn'), ('Ubol Ratana', 'Ubol_Ratana')])\n",
    "def forecast_using_rc(res):\n",
    "    balance = get_forecast_balance(res, lead_time=15)\n",
    "    plot_forecast(balance, res)"
   ]
  },
  {
   "cell_type": "markdown",
   "id": "1f8201f2",
   "metadata": {},
   "source": [
    "# (2) Using manual input of ∆S"
   ]
  },
  {
   "cell_type": "code",
   "execution_count": 13,
   "id": "aee9bdfd",
   "metadata": {},
   "outputs": [
    {
     "data": {
      "application/vnd.jupyter.widget-view+json": {
       "model_id": "8826984f8633472083a4815450e241c2",
       "version_major": 2,
       "version_minor": 0
      },
      "text/plain": [
       "interactive(children=(Dropdown(description='res', options=(('Lam Pao', 'Lam_Pao'), ('Sirindhorn', 'Sirindhorn'…"
      ]
     },
     "metadata": {},
     "output_type": "display_data"
    },
    {
     "name": "stdout",
     "output_type": "stream",
     "text": [
      "Note: -9999 will be treated as NoData\n"
     ]
    },
    {
     "data": {
      "application/vnd.jupyter.widget-view+json": {
       "model_id": "8df04ea0d05e4d9686679fbfd6140bdc",
       "version_major": 2,
       "version_minor": 0
      },
      "text/plain": [
       "VBox(children=(FloatText(value=-9999.0, description='2021-11-24 (% change w.r.t. SMax (1980.0 MCM))', layout=L…"
      ]
     },
     "metadata": {},
     "output_type": "display_data"
    },
    {
     "data": {
      "application/vnd.jupyter.widget-view+json": {
       "model_id": "e9b690d18be6482a89d4916f90b90e77",
       "version_major": 2,
       "version_minor": 0
      },
      "text/plain": [
       "Output()"
      ]
     },
     "metadata": {},
     "output_type": "display_data"
    }
   ],
   "source": [
    "@interact(res=[('Lam Pao', 'Lam_Pao'), ('Sirindhorn', 'Sirindhorn'), ('Ubol Ratana', 'Ubol_Ratana')])\n",
    "def forecast_manual_control(res):\n",
    "    r = res\n",
    "    lead_time = 15\n",
    "    freq = 5\n",
    "\n",
    "    inflow = get_inflow(r)\n",
    "    dels_nowcast = get_dels(r)\n",
    "\n",
    "    dels_nowcast['nowcast/forecast'] = 'nowcast'\n",
    "    extended_index = pd.date_range(dels_nowcast.index[-1], freq=f\"{freq}d\", periods=lead_time/freq + 1)[1:]\n",
    "    \n",
    "    style = {'description_width': 'initial'}  # https://ipywidgets.readthedocs.io/en/latest/examples/Widget%20Styling.html\n",
    "    a = widgets.FloatText(-9999, description=f'{extended_index[0].strftime(\"%Y-%m-%d\")} (% change w.r.t. SMax ({Smaxes[r]*1e-6} MCM))', style=style, layout=Layout(width='400px'))\n",
    "    b = widgets.FloatText(-9999, description=f'{extended_index[1].strftime(\"%Y-%m-%d\")} (% change w.r.t. SMax ({Smaxes[r]*1e-6} MCM))', style=style, layout=Layout(width='400px'))\n",
    "    c = widgets.FloatText(-9999, description=f'{extended_index[2].strftime(\"%Y-%m-%d\")} (% change w.r.t. SMax ({Smaxes[r]*1e-6} MCM))', style=style, layout=Layout(width='400px'))\n",
    "    ui = widgets.VBox([a, b, c])\n",
    "    ui.layout.width='500px'\n",
    "    \n",
    "    def calculate(t1, t2, t3):\n",
    "        dels_values = [(s_smax/100)*Smaxes[r] for s_smax in [t1, t2, t3] if s_smax!=-9999]\n",
    "        dels_forecast = pd.DataFrame({\n",
    "            'dels [m3]': dels_values,\n",
    "        }, index=extended_index[:len(dels_values)])\n",
    "        dels_forecast['nowcast/forecast'] = 'forecast'\n",
    "\n",
    "        dels = pd.concat([dels_nowcast, dels_forecast])\n",
    "\n",
    "        balance = dels.copy()\n",
    "\n",
    "        balance['I [m3]'] = balance['dels [m3]'].rolling(2).apply(lambda x: adder(x, inflow['I [m3]']))\n",
    "\n",
    "        balance['O [m3]'] = balance['I [m3]'] - balance['dels [m3]']\n",
    "        balance.loc[balance['O [m3]']<0, 'O [m3]'] = 0\n",
    "        balance['O [m3/day]'] = balance['O [m3]']/balance.index.to_series().diff().dt.days\n",
    "        balance['dels [m3/day]'] = balance['dels [m3]']/balance.index.to_series().diff().dt.days\n",
    "        balance['I [m3/day]'] = balance['I [m3]']/balance.index.to_series().diff().dt.days\n",
    "        balance['O [Mil. m3/day]'] = balance['O [m3]']*1e-6/balance.index.to_series().diff().dt.days\n",
    "        balance['dels [Mil. m3/day]'] = balance['dels [m3]']*1e-6/balance.index.to_series().diff().dt.days\n",
    "        balance['I [Mil. m3/day]'] = balance['I [m3]']*1e-6/balance.index.to_series().diff().dt.days\n",
    "        print(balance[['I [Mil. m3/day]', 'dels [Mil. m3/day]', 'O [Mil. m3/day]', 'nowcast/forecast']].tail())\n",
    "\n",
    "        f = plot_forecast(balance, r)\n",
    "    out = widgets.interactive_output(calculate, {'t1': a, 't2': b, 't3': c})\n",
    "    \n",
    "    print(\"Note: -9999 will be treated as NoData\")\n",
    "    display(ui, out)"
   ]
  },
  {
   "cell_type": "code",
   "execution_count": null,
   "id": "aa04ce17",
   "metadata": {},
   "outputs": [],
   "source": []
  }
 ],
 "metadata": {
  "kernelspec": {
   "display_name": "Python 3.10.5 ('rat-training-22')",
   "language": "python",
   "name": "python3"
  },
  "language_info": {
   "codemirror_mode": {
    "name": "ipython",
    "version": 3
   },
   "file_extension": ".py",
   "mimetype": "text/x-python",
   "name": "python",
   "nbconvert_exporter": "python",
   "pygments_lexer": "ipython3",
   "version": "3.10.5"
  },
  "vscode": {
   "interpreter": {
    "hash": "c300dfce7f130addde34bb35dc5597fc44914ad651cf339f2e6729ce57523eb4"
   }
  }
 },
 "nbformat": 4,
 "nbformat_minor": 5
}
